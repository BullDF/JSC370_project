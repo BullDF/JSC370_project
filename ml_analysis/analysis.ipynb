{
 "cells": [
  {
   "cell_type": "code",
   "execution_count": 5,
   "metadata": {},
   "outputs": [],
   "source": [
    "import numpy as np\n",
    "import pandas as pd\n",
    "from sklearn.metrics import confusion_matrix, accuracy_score"
   ]
  },
  {
   "cell_type": "code",
   "execution_count": 6,
   "metadata": {},
   "outputs": [],
   "source": [
    "train_data = np.load('train_data.npy')\n",
    "train_label = np.load('train_label.npy')\n",
    "test_data = np.load('test_data.npy')\n",
    "test_label = np.load('test_label.npy')\n",
    "tree_pred = pd.read_csv('tree_pred.csv').to_numpy()"
   ]
  },
  {
   "cell_type": "markdown",
   "metadata": {},
   "source": [
    "# Decision Tree (Continued)"
   ]
  },
  {
   "cell_type": "code",
   "execution_count": 7,
   "metadata": {},
   "outputs": [
    {
     "data": {
      "text/plain": [
       "0.44954128440366975"
      ]
     },
     "execution_count": 7,
     "metadata": {},
     "output_type": "execute_result"
    }
   ],
   "source": [
    "accuracy_score(test_label, tree_pred)"
   ]
  },
  {
   "cell_type": "code",
   "execution_count": 8,
   "metadata": {},
   "outputs": [
    {
     "data": {
      "text/plain": [
       "array([[ 28,   3,   0,  18,   8,   0,  19,   5],\n",
       "       [  3,  24,   1,  11,  14,   0,  16,   0],\n",
       "       [  0,   0,  25,   8,  15,   1,   1,   0],\n",
       "       [ 12,   2,   5,  85,  30,   0,  32,   3],\n",
       "       [ 10,   5,   7,  34,  71,   0,  37,   0],\n",
       "       [  0,   0,   7,   3,  12,   1,   1,   0],\n",
       "       [ 11,   4,   1,  15,  23,   0, 106,   0],\n",
       "       [ 10,   0,   0,  20,   4,   0,   9,   3]])"
      ]
     },
     "execution_count": 8,
     "metadata": {},
     "output_type": "execute_result"
    }
   ],
   "source": [
    "confusion_matrix(test_label, tree_pred)"
   ]
  },
  {
   "cell_type": "markdown",
   "metadata": {},
   "source": [
    "# Random Forest"
   ]
  },
  {
   "cell_type": "code",
   "execution_count": 9,
   "metadata": {},
   "outputs": [],
   "source": [
    "from sklearn.ensemble import RandomForestClassifier"
   ]
  },
  {
   "cell_type": "code",
   "execution_count": 10,
   "metadata": {},
   "outputs": [
    {
     "data": {
      "text/plain": [
       "0.5045871559633027"
      ]
     },
     "execution_count": 10,
     "metadata": {},
     "output_type": "execute_result"
    }
   ],
   "source": [
    "rf = RandomForestClassifier(random_state=1000)\n",
    "rf.fit(train_data, train_label)\n",
    "pred = rf.predict(test_data)\n",
    "accuracy_score(pred, test_label)"
   ]
  },
  {
   "cell_type": "markdown",
   "metadata": {},
   "source": [
    "# Gradient Boosting"
   ]
  },
  {
   "cell_type": "code",
   "execution_count": 44,
   "metadata": {},
   "outputs": [],
   "source": [
    "from sklearn.ensemble import GradientBoostingClassifier"
   ]
  },
  {
   "cell_type": "code",
   "execution_count": 63,
   "metadata": {},
   "outputs": [
    {
     "data": {
      "text/plain": [
       "0.4875491480996068"
      ]
     },
     "execution_count": 63,
     "metadata": {},
     "output_type": "execute_result"
    }
   ],
   "source": [
    "gbm = GradientBoostingClassifier(random_state=999)\n",
    "gbm.fit(train_data, train_label)\n",
    "pred = gbm.predict(test_data)\n",
    "accuracy_score(test_label, pred)"
   ]
  },
  {
   "cell_type": "markdown",
   "metadata": {},
   "source": [
    "# XGBoost"
   ]
  },
  {
   "cell_type": "code",
   "execution_count": 46,
   "metadata": {},
   "outputs": [],
   "source": [
    "import xgboost as xgb"
   ]
  },
  {
   "cell_type": "code",
   "execution_count": 51,
   "metadata": {},
   "outputs": [],
   "source": [
    "dtrain = xgb.DMatrix(data=train_data, label=train_label)\n",
    "dtest = xgb.DMatrix(data=test_data)"
   ]
  },
  {
   "cell_type": "code",
   "execution_count": 67,
   "metadata": {},
   "outputs": [
    {
     "data": {
      "text/plain": [
       "0.48230668414154654"
      ]
     },
     "execution_count": 67,
     "metadata": {},
     "output_type": "execute_result"
    }
   ],
   "source": [
    "parameters = {'objective': 'multi:softmax', 'num_class': 8, 'seed': 424}\n",
    "bst = xgb.train(parameters, dtrain)\n",
    "pred = bst.predict(dtest)\n",
    "accuracy_score(test_label, pred)"
   ]
  },
  {
   "cell_type": "markdown",
   "metadata": {},
   "source": [
    "# Neural Network"
   ]
  },
  {
   "cell_type": "code",
   "execution_count": 81,
   "metadata": {},
   "outputs": [],
   "source": [
    "import torch\n",
    "import torch.nn as nn\n",
    "from torch.utils.data import Dataset, DataLoader\n",
    "from tqdm import tqdm"
   ]
  },
  {
   "cell_type": "code",
   "execution_count": 78,
   "metadata": {},
   "outputs": [],
   "source": [
    "class BillboardDataset(Dataset):\n",
    "    def __init__(self, data, label) -> None:\n",
    "        super(BillboardDataset, self).__init__()\n",
    "        self.data = torch.tensor(data.to_numpy())\n",
    "        self.label = torch.tensor(label)\n",
    "    def __len__(self):\n",
    "        return self.data.size(0)\n",
    "    def __getitem__(self, index):\n",
    "        return self.data[index], self.label[index]"
   ]
  },
  {
   "cell_type": "code",
   "execution_count": 79,
   "metadata": {},
   "outputs": [],
   "source": [
    "train_dataset = BillboardDataset(train_data, train_label)\n",
    "test_dataset = BillboardDataset(test_data, test_label)"
   ]
  },
  {
   "cell_type": "code",
   "execution_count": 80,
   "metadata": {},
   "outputs": [],
   "source": [
    "class NN(nn.Module):\n",
    "    def __init__(self, input_dim, num_class) -> None:\n",
    "        super(NN, self).__init__()\n",
    "        self.relu = nn.ReLU()\n",
    "        self.fc1 = nn.Linear(input_dim, 32)\n",
    "        self.fc2 = nn.Linear(32, 64)\n",
    "        self.fc3 = nn.Linear(64, 64)\n",
    "        self.out = nn.Linear(64, num_class)\n",
    "    def forward(self, x):\n",
    "        h1 = self.relu(self.fc1(x))\n",
    "        h2 = self.relu(self.fc2(h1))\n",
    "        h3 = self.relu(self.fc3(h2))\n",
    "        logits = self.relu(self.out(h3))\n",
    "        return logits"
   ]
  },
  {
   "cell_type": "code",
   "execution_count": null,
   "metadata": {},
   "outputs": [],
   "source": [
    "def eval(model: nn.Module, dataset: BillboardDataset) -> float:\n",
    "    dataloader = DataLoader(dataset, batch_size=128)\n",
    "    model.eval()\n",
    "    correct = 0\n",
    "    total = 0\n",
    "    for data, label in dataloader:\n",
    "        logits = model(data)\n",
    "        pred = torch.argmax(logits, 1)\n",
    "        correct += torch.sum(pred == label)\n",
    "        total += len(data)\n",
    "    return correct / total\n",
    "\n",
    "def train(model: nn.Module,\n",
    "          train_dataset: BillboardDataset,\n",
    "          val_dataset: BillboardDataset,\n",
    "          num_epochs: int=50,\n",
    "          lr: float=0.001,\n",
    "          batch_size: int=64):\n",
    "    \n",
    "    model.train()\n",
    "    criterion = nn.CrossEntropyLoss()\n",
    "    optimizer = torch.optim.Adam(model.parameters(), lr)\n",
    "    train_dataloader = DataLoader(train_dataset, batch_size)\n",
    "\n",
    "    for i in tqdm(range(num_epochs), desc='Training'):\n",
    "        print(f'Training epoch {i}')\n",
    "        logits = model(train_dataloader)"
   ]
  }
 ],
 "metadata": {
  "kernelspec": {
   "display_name": "Python 3",
   "language": "python",
   "name": "python3"
  },
  "language_info": {
   "codemirror_mode": {
    "name": "ipython",
    "version": 3
   },
   "file_extension": ".py",
   "mimetype": "text/x-python",
   "name": "python",
   "nbconvert_exporter": "python",
   "pygments_lexer": "ipython3",
   "version": "3.12.0"
  }
 },
 "nbformat": 4,
 "nbformat_minor": 2
}
