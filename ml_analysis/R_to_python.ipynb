{
 "cells": [
  {
   "cell_type": "code",
   "execution_count": 5,
   "metadata": {},
   "outputs": [],
   "source": [
    "import pandas as pd\n",
    "import numpy as np"
   ]
  },
  {
   "cell_type": "code",
   "execution_count": 2,
   "metadata": {},
   "outputs": [],
   "source": [
    "genre_to_id = {'classic': 0, 'country': 1, 'hip': 2, 'other': 3, 'pop': 4, 'rap': 5, 'rock': 6, 'soul': 7}\n",
    "mode_to_id = {'major': 0, 'minor': 1}"
   ]
  },
  {
   "cell_type": "code",
   "execution_count": 3,
   "metadata": {},
   "outputs": [],
   "source": [
    "df = pd.read_csv('tracks_with_genres.csv')\n",
    "df['genre'] = df['genre'].apply(lambda x : genre_to_id[x])\n",
    "df['mode'] = df['mode'].apply(lambda x : mode_to_id[x])\n",
    "train_indices = pd.read_csv('train_indices.csv')['x']\n",
    "tree_pred = pd.read_csv('tree_pred.csv')['x'].to_numpy()\n",
    "test_indices = df.index.difference(train_indices)\n",
    "train = df.iloc[train_indices]\n",
    "test = df.iloc[test_indices]"
   ]
  },
  {
   "cell_type": "code",
   "execution_count": 6,
   "metadata": {},
   "outputs": [],
   "source": [
    "train_data = train.drop('genre', axis=1).to_numpy()\n",
    "train_label = train['genre'].to_numpy()\n",
    "test_data = test.drop('genre', axis=1).to_numpy()\n",
    "test_label = test['genre'].to_numpy()"
   ]
  },
  {
   "cell_type": "code",
   "execution_count": 7,
   "metadata": {},
   "outputs": [],
   "source": [
    "np.save('train_data.npy', train_data)\n",
    "np.save('train_label.npy', train_label)\n",
    "np.save('test_data.npy', test_data)\n",
    "np.save('test_label.npy', test_label)"
   ]
  }
 ],
 "metadata": {
  "kernelspec": {
   "display_name": "Python 3",
   "language": "python",
   "name": "python3"
  },
  "language_info": {
   "codemirror_mode": {
    "name": "ipython",
    "version": 3
   },
   "file_extension": ".py",
   "mimetype": "text/x-python",
   "name": "python",
   "nbconvert_exporter": "python",
   "pygments_lexer": "ipython3",
   "version": "3.12.0"
  }
 },
 "nbformat": 4,
 "nbformat_minor": 2
}
